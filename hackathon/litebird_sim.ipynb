{
 "cells": [
  {
   "cell_type": "markdown",
   "metadata": {},
   "source": [
    "# LiteBIRD Simulation Example\n",
    "\n",
    "This notebook does a simple LiteBIRD simulation which you can use as a starting point for testing and customization.  The toast_litebird package is here: https://github.com/hpc4cmb/toast-litebird and the documentation is here: https://hpc4cmb.github.io/toast-litebird/\n",
    "\n",
    "First you must get access to the kernel that has the toast_litebird package.  Open a jupyter terminal and do:\n",
    "```\n",
    "%>  module use /global/common/software/litebird/cori/modulefiles\n",
    "    \n",
    "%>  module load litebird\n",
    "    \n",
    "%>  litebird-jupyter.sh\n",
    "```\n",
    " \n",
    "Now in this notebook select the the litebird kernel.  You may have to shutdown this notebook and re-open to see the new kernel."
   ]
  },
  {
   "cell_type": "code",
   "execution_count": null,
   "metadata": {},
   "outputs": [],
   "source": [
    "import os\n",
    "import sys\n",
    "\n",
    "import healpy as hp\n",
    "import matplotlib.pyplot as plt\n",
    "%matplotlib inline\n",
    "import numpy as np\n",
    "\n",
    "import toast\n",
    "from toast.mpi import MPI\n",
    "\n",
    "from toast.utils import memreport\n",
    "\n",
    "from toast import pipeline_tools\n",
    "\n",
    "from toast_litebird import pipeline_tools as lbtools\n",
    "\n",
    "# Capture C++ output in the jupyter cells\n",
    "%reload_ext wurlitzer"
   ]
  },
  {
   "cell_type": "markdown",
   "metadata": {},
   "source": [
    "## Select Detectors\n",
    "\n",
    "We can use some command line tools to easily select detectors and dump them to a file for use in a pipeline.  This command creates a full hardware model:"
   ]
  },
  {
   "cell_type": "code",
   "execution_count": null,
   "metadata": {},
   "outputs": [],
   "source": [
    "! lb_hardware_sim --overwrite"
   ]
  },
  {
   "cell_type": "markdown",
   "metadata": {},
   "source": [
    "We can look at the details of the hardware file:"
   ]
  },
  {
   "cell_type": "code",
   "execution_count": null,
   "metadata": {},
   "outputs": [],
   "source": [
    "! lb_hardware_info hardware.toml.gz"
   ]
  },
  {
   "cell_type": "markdown",
   "metadata": {},
   "source": [
    "Now we can select just some detectors"
   ]
  },
  {
   "cell_type": "code",
   "execution_count": null,
   "metadata": {},
   "outputs": [],
   "source": [
    "! lb_hardware_trim \\\n",
    "--hardware hardware.toml.gz \\\n",
    "--overwrite \\\n",
    "--out selected \\\n",
    "--telescopes LFT \\\n",
    "--match 'band:.*040'"
   ]
  },
  {
   "cell_type": "code",
   "execution_count": null,
   "metadata": {},
   "outputs": [],
   "source": [
    "! lb_hardware_info selected.toml.gz"
   ]
  },
  {
   "cell_type": "markdown",
   "metadata": {},
   "source": [
    "Plot this"
   ]
  },
  {
   "cell_type": "code",
   "execution_count": null,
   "metadata": {},
   "outputs": [],
   "source": [
    "! lb_hardware_plot --hardware selected.toml.gz --out selected.pdf"
   ]
  },
  {
   "cell_type": "markdown",
   "metadata": {},
   "source": [
    "The previous command makes a PDF file.  We can display it:"
   ]
  },
  {
   "cell_type": "code",
   "execution_count": null,
   "metadata": {},
   "outputs": [],
   "source": [
    "from IPython.display import IFrame\n",
    "IFrame(\"selected.pdf\", width=600, height=300)"
   ]
  },
  {
   "cell_type": "markdown",
   "metadata": {},
   "source": [
    "## Parameters\n",
    "\n",
    "These arguments control the entire notebook"
   ]
  },
  {
   "cell_type": "code",
   "execution_count": null,
   "metadata": {},
   "outputs": [],
   "source": [
    "class args:\n",
    "    # Hardware model\n",
    "    hardware = \"selected.toml.gz\"\n",
    "    bands = \"040\"\n",
    "    thinfp = False\n",
    "    # Observations\n",
    "    obs_num = 1\n",
    "    start_time = 0\n",
    "    sample_rate = 30.0\n",
    "    obs_time_h = 23.0\n",
    "    gap_h = 1.0\n",
    "    # half-wave plate\n",
    "    hwp_rpm = 91.0\n",
    "    hwp_step_deg = None\n",
    "    hwp_step_time_s = None\n",
    "    # Scanning parameters\n",
    "    spin_period_min = 10.0\n",
    "    spin_angle_deg = 50.0      # This is \"beta\"\n",
    "    prec_period_min = 96.174\n",
    "    prec_angle_deg = 45.0      # This is \"alpha\"\n",
    "    # Pixelization\n",
    "    coord = \"G\"\n",
    "    nside = 512\n",
    "    mode = \"IQU\"\n",
    "    single_precision_pointing = False\n",
    "    nside_submap = 16\n",
    "    # Noise simulation\n",
    "    common_mode_noise = False\n",
    "    # Output directory\n",
    "    outdir = \"litebird_out\""
   ]
  },
  {
   "cell_type": "markdown",
   "metadata": {},
   "source": [
    "## Communicator\n",
    "\n",
    "Since this is a serial notebook, this communicator will just have one process."
   ]
  },
  {
   "cell_type": "code",
   "execution_count": null,
   "metadata": {},
   "outputs": [],
   "source": [
    "mpiworld, procs, rank = toast.mpi.get_world()\n",
    "comm = toast.mpi.Comm(mpiworld)\n",
    "\n",
    "memreport(\"After communicator creation\", comm.comm_world)"
   ]
  },
  {
   "cell_type": "markdown",
   "metadata": {},
   "source": [
    "## Focalplane\n",
    "\n",
    "Load the hardware file and create the focalplane."
   ]
  },
  {
   "cell_type": "code",
   "execution_count": null,
   "metadata": {},
   "outputs": [],
   "source": [
    "hw, telescope = lbtools.get_hardware(args, comm)\n",
    "\n",
    "focalplane = lbtools.get_focalplane(args, comm, hw)\n",
    "\n",
    "memreport(\"After focalplane creation\", comm.comm_world)"
   ]
  },
  {
   "cell_type": "markdown",
   "metadata": {},
   "source": [
    "## Create Observations\n",
    "\n",
    "This uses the parameters at the top of the notebook to simulate regular spaced observations."
   ]
  },
  {
   "cell_type": "code",
   "execution_count": null,
   "metadata": {},
   "outputs": [],
   "source": [
    "data = lbtools.create_observations(args, comm, focalplane, 1)\n",
    "\n",
    "memreport(\"After creating observations\", comm.comm_world)"
   ]
  },
  {
   "cell_type": "markdown",
   "metadata": {},
   "source": [
    "## Pointing matrix\n",
    "\n",
    "Here we translate the boresight quaternions into detector pointing (pixels numbers and Stokes weights)."
   ]
  },
  {
   "cell_type": "code",
   "execution_count": null,
   "metadata": {},
   "outputs": [],
   "source": [
    "pipeline_tools.expand_pointing(args, comm, data)\n",
    "\n",
    "memreport(\"After expanding pointing\", comm.comm_world)"
   ]
  },
  {
   "cell_type": "markdown",
   "metadata": {},
   "source": [
    "Make a boolean hit map for diagnostics"
   ]
  },
  {
   "cell_type": "code",
   "execution_count": null,
   "metadata": {},
   "outputs": [],
   "source": [
    "npix = 12 * args.nside ** 2\n",
    "hitmap = np.zeros(npix)\n",
    "for obs in data.obs:\n",
    "    tod = obs[\"tod\"]\n",
    "    for det in tod.local_dets:\n",
    "        pixels = tod.cache.reference(\"pixels_{}\".format(det))\n",
    "        hitmap[pixels] = 1\n",
    "hitmap[hitmap == 0] = hp.UNSEEN\n",
    "hp.mollview(hitmap, nest=True, title=\"all hit pixels\", cbar=False)\n",
    "hp.graticule(22.5, verbose=False)"
   ]
  },
  {
   "cell_type": "markdown",
   "metadata": {},
   "source": [
    "## Sky signal\n",
    "\n",
    "Create a synthetic Gaussian map to scan as input signal"
   ]
  },
  {
   "cell_type": "code",
   "execution_count": null,
   "metadata": {},
   "outputs": [],
   "source": [
    "lmax = args.nside * 2\n",
    "cls = np.zeros([4, lmax + 1])\n",
    "cls[0] = 1e0\n",
    "sim_map = hp.synfast(cls, args.nside, lmax=lmax, fwhm=np.radians(15), new=True)\n",
    "\n",
    "plt.figure(figsize=[12, 8])\n",
    "for i, m in enumerate(sim_map):\n",
    "    hp.mollview(sim_map[i], cmap=\"coolwarm\", title=\"Input signal {}\".format(\"IQU\"[i]), sub=[1, 3, 1+i])\n",
    "hp.write_map(\"sim_map.fits\", hp.reorder(sim_map, r2n=True), nest=True, overwrite=True)"
   ]
  },
  {
   "cell_type": "markdown",
   "metadata": {},
   "source": [
    "Scan the sky signal"
   ]
  },
  {
   "cell_type": "code",
   "execution_count": null,
   "metadata": {},
   "outputs": [],
   "source": [
    "all_name = \"all_signal\"\n",
    "sky_name = \"sky_signal\"\n",
    "\n",
    "# Clear any previous signal from the buffers\n",
    "toast.tod.OpCacheClear(all_name).exec(data)\n",
    "\n",
    "distmap = toast.map.DistPixels(\n",
    "    data,\n",
    "    nnz=len(args.mode),\n",
    "    dtype=np.float32,\n",
    ")\n",
    "distmap.read_healpix_fits(\"sim_map.fits\")\n",
    "\n",
    "toast.todmap.OpSimScan(distmap=distmap, out=all_name).exec(data)\n",
    "\n",
    "# Copy the sky signal, just in case we need it later\n",
    "\n",
    "toast.tod.OpCacheCopy(input=all_name, output=sky_name, force=True).exec(data)\n",
    "\n",
    "memreport(\"After scanning sky signal\", comm.comm_world)"
   ]
  },
  {
   "cell_type": "markdown",
   "metadata": {},
   "source": [
    "## Noise\n",
    "\n",
    "Simulate noise and make a copy of signal+noise in case we need it later"
   ]
  },
  {
   "cell_type": "code",
   "execution_count": null,
   "metadata": {},
   "outputs": [],
   "source": [
    "copy_name = \"copy_signal\"\n",
    "\n",
    "toast.tod.OpSimNoise(out=all_name, realization=0).exec(data)\n",
    "\n",
    "toast.tod.OpCacheCopy(input=all_name, output=copy_name, force=True).exec(data)\n",
    "\n",
    "memreport(\"After simulating noise\", comm.comm_world)"
   ]
  },
  {
   "cell_type": "markdown",
   "metadata": {},
   "source": [
    "## Your own operator here\n",
    "\n",
    "Here we define an empty operator you can work with"
   ]
  },
  {
   "cell_type": "code",
   "execution_count": null,
   "metadata": {},
   "outputs": [],
   "source": [
    "class MyOperator(toast.Operator):\n",
    "    def __init__(self, name=\"signal\"):\n",
    "        \"\"\" Arguments:\n",
    "        name(str) : Cache prefix to operate on\n",
    "        \"\"\"\n",
    "        self._name = name\n",
    "    \n",
    "    def exec(self, data):\n",
    "        # We loop here over all local data but do nothing with it.\n",
    "        for obs in data.obs:\n",
    "            tod = obs[\"tod\"]\n",
    "            for det in tod.local_dets:\n",
    "                signal = tod.local_signal(det, self._name)\n",
    "                # Do operations in-place\n",
    "                signal *= 1.0\n",
    "                #signal[:] = (some other data)\n",
    "                "
   ]
  },
  {
   "cell_type": "markdown",
   "metadata": {},
   "source": [
    "Then we apply the operator to the data"
   ]
  },
  {
   "cell_type": "code",
   "execution_count": null,
   "metadata": {},
   "outputs": [],
   "source": [
    "toast.tod.OpCacheCopy(input=copy_name, output=all_name, force=True).exec(data)\n",
    "MyOperator(name=all_name).exec(data)\n",
    "\n",
    "memreport(\"After my operator\", comm.comm_world)"
   ]
  },
  {
   "cell_type": "markdown",
   "metadata": {},
   "source": [
    "Plot a short segment of the signal before and after the operator"
   ]
  },
  {
   "cell_type": "code",
   "execution_count": null,
   "metadata": {},
   "outputs": [],
   "source": [
    "tod = data.obs[0][\"tod\"]\n",
    "times = tod.local_times()\n",
    "\n",
    "fig = plt.figure(figsize=[12, 8])\n",
    "for idet, det in enumerate(tod.local_dets):\n",
    "    cflags = tod.local_common_flags()\n",
    "    before = tod.local_signal(det, copy_name)\n",
    "    after = tod.local_signal(det, all_name)\n",
    "\n",
    "    ind = slice(0, 1000)\n",
    "    # Flag out turnarounds\n",
    "    good = cflags[ind] == 0\n",
    "    ax = fig.add_subplot(8, 8, 1 + idet)\n",
    "    ax.set_title(det)\n",
    "    ax.plot(times[ind][good], before[ind][good], '.', label=\"before\")\n",
    "    ax.plot(times[ind][good], after[ind][good], '.', label=\"after\")\n",
    "ax.legend(bbox_to_anchor=(1.1, 1.00))\n",
    "fig.subplots_adjust(hspace=0.6)"
   ]
  },
  {
   "cell_type": "markdown",
   "metadata": {},
   "source": [
    "## Make a map\n",
    "\n",
    "Destripe the signal and make a map.  We use the nascent TOAST mapmaker because it can be run in serial mode without MPI.  The TOAST mapmaker is still significantly slower so production runs should used `libMadam`."
   ]
  },
  {
   "cell_type": "code",
   "execution_count": null,
   "metadata": {},
   "outputs": [],
   "source": [
    "# Always begin mapmaking by copying the simulated signal.\n",
    "\n",
    "destriped_name = \"destriped\"\n",
    "toast.tod.OpCacheCopy(\n",
    "    input=all_name,\n",
    "    output=destriped_name,\n",
    "    force=True\n",
    ").exec(data)\n",
    "\n",
    "mapmaker = toast.todmap.OpMapMaker(\n",
    "    nside=args.nside,\n",
    "    nnz=3,\n",
    "    name=destriped_name,\n",
    "    outdir=args.outdir,\n",
    "    outprefix=\"toast_test_\",\n",
    "    baseline_length=10,\n",
    "    iter_max=15,\n",
    "    use_noise_prior=False,\n",
    ")\n",
    "mapmaker.exec(data)\n",
    "\n",
    "memreport(\"After map making\", comm.comm_world)"
   ]
  },
  {
   "cell_type": "markdown",
   "metadata": {},
   "source": [
    "Plot a segment of the timelines"
   ]
  },
  {
   "cell_type": "code",
   "execution_count": null,
   "metadata": {},
   "outputs": [],
   "source": [
    "tod = data.obs[0][\"tod\"]\n",
    "times = tod.local_times()\n",
    "\n",
    "fig = plt.figure(figsize=[12, 8])\n",
    "for idet, det in enumerate(tod.local_dets):\n",
    "    sky = tod.local_signal(det, sky_name)\n",
    "    full = tod.local_signal(det, all_name)\n",
    "    destriped = tod.local_signal(det, destriped_name)\n",
    "\n",
    "    ind = slice(0, 1000)\n",
    "    ax = fig.add_subplot(8, 8, 1 + idet)\n",
    "    ax.set_title(det)\n",
    "    ax.plot(times[ind], sky[ind], '.', label=\"sky\", zorder=100)\n",
    "    ax.plot(times[ind], full[ind] - sky[ind], '.', label=\"noise\")\n",
    "    ax.plot(times[ind], full[ind] - destriped[ind], '.', label=\"baselines\")\n",
    "ax.legend(bbox_to_anchor=(1.1, 1.00))\n",
    "fig.subplots_adjust(hspace=0.6)\n"
   ]
  },
  {
   "cell_type": "code",
   "execution_count": null,
   "metadata": {},
   "outputs": [],
   "source": [
    "fig = plt.figure(figsize=[12, 8])\n",
    "for idet, det in enumerate(tod.local_dets):\n",
    "    sky = tod.local_signal(det, sky_name)\n",
    "    full = tod.local_signal(det, copy_name)\n",
    "    destriped = tod.local_signal(det, destriped_name)\n",
    "    ax = fig.add_subplot(8, 8, 1 + idet)\n",
    "    ax.set_title(det)\n",
    "    #plt.plot(times[ind], sky[ind], '-', label=\"signal\", zorder=100)\n",
    "    plt.plot(times, full - sky, '.', label=\"noise\")\n",
    "    plt.plot(times, full - destriped, '.', label=\"baselines\")\n",
    "ax.legend(bbox_to_anchor=(1.1, 1.00))\n",
    "fig.subplots_adjust(hspace=.6)"
   ]
  },
  {
   "cell_type": "code",
   "execution_count": null,
   "metadata": {},
   "outputs": [],
   "source": [
    "plt.figure(figsize=[16, 8])\n",
    "\n",
    "hitmap = hp.read_map(\"litebird_out/toast_test_hits.fits\", verbose=False)\n",
    "hitmap[hitmap == 0] = hp.UNSEEN\n",
    "hp.mollview(hitmap, sub=[2, 2, 1], title=\"hits\")\n",
    "\n",
    "binmap = hp.read_map(\"litebird_out/toast_test_binned.fits\", verbose=False)\n",
    "binmap[binmap == 0] = hp.UNSEEN\n",
    "hp.mollview(binmap, sub=[2, 2, 2], title=\"binned map\", cmap=\"coolwarm\")\n",
    "\n",
    "# Fix the plotting range for input signal and the destriped map\n",
    "amp = 5.0\n",
    "\n",
    "destriped = hp.read_map(\"litebird_out/toast_test_destriped.fits\", verbose=False)\n",
    "destriped[destriped == 0] = hp.UNSEEN\n",
    "# Remove monopole\n",
    "good = destriped != hp.UNSEEN\n",
    "destriped[good] -= np.median(destriped[good])\n",
    "hp.mollview(destriped, sub=[2, 2, 3], title=\"destriped map\", cmap=\"coolwarm\", min=-amp, max=amp)\n",
    "\n",
    "inmap = hp.read_map(\"sim_map.fits\", verbose=False)\n",
    "inmap[hitmap == hp.UNSEEN] = hp.UNSEEN\n",
    "hp.mollview(inmap, sub=[2, 2, 4], title=\"input map\", cmap=\"coolwarm\", min=-amp, max=amp)\n"
   ]
  },
  {
   "cell_type": "code",
   "execution_count": null,
   "metadata": {},
   "outputs": [],
   "source": [
    "# Plot the white noise covariance\n",
    "\n",
    "plt.figure(figsize=[12, 8])\n",
    "wcov = hp.read_map(\"litebird_out/toast_test_npp.fits\", None)\n",
    "wcov[:, wcov[0] == 0] = hp.UNSEEN\n",
    "hp.mollview(wcov[0], sub=[3, 3, 1], title=\"II\", cmap=\"coolwarm\")\n",
    "hp.mollview(wcov[1], sub=[3, 3, 2], title=\"IQ\", cmap=\"coolwarm\")\n",
    "hp.mollview(wcov[2], sub=[3, 3, 3], title=\"IU\", cmap=\"coolwarm\")\n",
    "hp.mollview(wcov[3], sub=[3, 3, 5], title=\"QQ\", cmap=\"coolwarm\")\n",
    "hp.mollview(wcov[4], sub=[3, 3, 6], title=\"QU\", cmap=\"coolwarm\")\n",
    "hp.mollview(wcov[5], sub=[3, 3, 9], title=\"UU\", cmap=\"coolwarm\")"
   ]
  },
  {
   "cell_type": "markdown",
   "metadata": {},
   "source": [
    "## Filter & bin\n",
    "\n",
    "A filter-and-bin mapmaker is easily created by combining TOAST filter operators and running the mapmaker without destriping:"
   ]
  },
  {
   "cell_type": "code",
   "execution_count": null,
   "metadata": {},
   "outputs": [],
   "source": [
    "filtered_name = \"filtered\"\n",
    "\n",
    "toast.tod.OpCacheCopy(input=copy_name, output=filtered_name, force=True).exec(data)\n",
    "\n",
    "toast.tod.OpPolyFilter(order=3, name=filtered_name).exec(data)\n",
    "\n",
    "mapmaker = toast.todmap.OpMapMaker(\n",
    "    nside=args.nside,\n",
    "    nnz=len(args.mode),\n",
    "    name=filtered_name,\n",
    "    outdir=args.outdir,\n",
    "    outprefix=\"toast_test_filtered_\",\n",
    "    baseline_length=None,\n",
    ")\n",
    "mapmaker.exec(data)\n",
    "\n",
    "plt.figure(figsize=[16, 8])\n",
    "\n",
    "binmap = hp.read_map(\"litebird_out/toast_test_binned.fits\", verbose=False)\n",
    "binmap[binmap == 0] = hp.UNSEEN\n",
    "hp.mollview(binmap, sub=[1, 3, 1], title=\"binned map\", cmap=\"coolwarm\")\n",
    "\n",
    "filtered_map = hp.read_map(\"litebird_out/toast_test_filtered_binned.fits\", verbose=False)\n",
    "filtered_map[filtered_map == 0] = hp.UNSEEN\n",
    "hp.mollview(filtered_map, sub=[1, 3, 2], title=\"filtered map\", cmap=\"coolwarm\")\n",
    "\n",
    "inmap = hp.read_map(\"sim_map.fits\", verbose=False)\n",
    "inmap[binmap == hp.UNSEEN] = hp.UNSEEN\n",
    "hp.mollview(inmap, sub=[1, 3, 3], title=\"input map\", cmap=\"coolwarm\")"
   ]
  }
 ],
 "metadata": {
  "kernelspec": {
   "display_name": "LiteBIRD 20200121",
   "language": "python",
   "name": "litebird-20200121"
  },
  "language_info": {
   "codemirror_mode": {
    "name": "ipython",
    "version": 3
   },
   "file_extension": ".py",
   "mimetype": "text/x-python",
   "name": "python",
   "nbconvert_exporter": "python",
   "pygments_lexer": "ipython3",
   "version": "3.6.9"
  }
 },
 "nbformat": 4,
 "nbformat_minor": 4
}
